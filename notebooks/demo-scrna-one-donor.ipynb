{
 "cells": [
  {
   "cell_type": "markdown",
   "id": "b31e544a",
   "metadata": {},
   "source": [
    "# Introduction\n",
    "\n",
    "This notebook provides a guide to using scRNA-seq data. It demonstrates how to load, preprocess, and analyze multimodal imaging data, enabling exploration of single cell resolved cell types and their associated features.\n",
    "\n",
    "The workflow includes downloading datasets, applying dimensionality reduction techniques like PCA and UMAP, and applying annotations. Visualization methods are showcased, including UMAP and pie plots."
   ]
  },
  {
   "cell_type": "markdown",
   "id": "a334b316",
   "metadata": {},
   "source": [
    "## Download the preprocessed data from the given URL"
   ]
  },
  {
   "cell_type": "markdown",
   "id": "6fe4ad33",
   "metadata": {},
   "source": [
    "To get started, download the datasets (~0.7 GB) from the provided Zenodo repository, then extract (unpack) \n",
    "the contents to a local directory on your machine. After unpacking, locate the variable named dataPath \n",
    "in the cell below and update its value to point to the folder where you extracted the data. Once you've \n",
    "set the correct path, you can run the subsequent cells to visualize the data."
   ]
  },
  {
   "cell_type": "code",
   "execution_count": null,
   "id": "467c841d",
   "metadata": {},
   "outputs": [],
   "source": [
    "!curl -L \"https://zenodo.org/api/records/xxx/files-archive\" -o dataset.zip && unzip dataset.zip && rm dataset.zip"
   ]
  },
  {
   "cell_type": "markdown",
   "id": "37448c4f",
   "metadata": {},
   "source": [
    "# Code used to preprocess the data"
   ]
  },
  {
   "cell_type": "markdown",
   "id": "f8f1e00f",
   "metadata": {},
   "source": [
    "The code load the three datasets and preprocess them is provided below for reference. The code is set to load filtered **`h5`** files from 10x Genomics Cell Ranger quantification.<br>\n",
    "The datasets are concatenated, normalized, clustered abnd saved in **`h5ad`** format.\n",
    "\n",
    "SenNet IDs used in this example:<br>\n",
    "`SNT268.LXPG.784` 'PL0006PADISNR'<br>\n",
    "`SNT324.BDTT.263` 'PL0006PADDU'<br>\n",
    "`SNT469.JJLS.674` 'PL0006PADAC'<br>"
   ]
  },
  {
   "cell_type": "code",
   "execution_count": null,
   "id": "fab6ee49",
   "metadata": {},
   "outputs": [],
   "source": [
    "from scipy.sparse import csr_matrix\n",
    "\n",
    "getOne = lambda p: sc.read_10x_h5(f'scRNA/PL0006PAD{p}_sample_filtered_feature_bc_matrix.h5').to_df().astype(int).groupby(level=0, axis=1).sum()\n",
    "\n",
    "ad = sc.concat([getOne() for p in ['DU', 'ISNR', 'AC']], axis=0)\n",
    "ad.X = csr_matrix(ad.X.astype(int))\n",
    "ad.obs['case'] = 'SC2300734_PL0006PAD'\n",
    "ad.obs['sample'] = ['DU']*ad1.shape[0] +  ['ISNR']*ad2.shape[0] +  ['DAC']*ad3.shape[0]\n",
    "\n",
    "# Filter out low-quality cells and genes with less than 200 genes expressed\n",
    "sc.pp.filter_cells(adata, min_genes=200)\n",
    "\n",
    "# Filter out genes expressed in less than 3 cells\n",
    "sc.pp.filter_genes(adata, min_cells=3)\n",
    "\n",
    "# Compute QC metrics\n",
    "adata.var[\"mt\"] = adata.var_names.str.startswith(\"MT-\")\n",
    "sc.pp.calculate_qc_metrics(adata, qc_vars=[\"mt\"], percent_top=None, log1p=False, inplace=True)\n",
    "\n",
    "# Filter out cells with high mitochondrial gene expression\n",
    "adata = adata[adata.obs.pct_counts_mt < 5, :]\n",
    "\n",
    "# Normalize and log-transform the data\n",
    "sc.pp.normalize_total(adata, target_sum=1e4)\n",
    "sc.pp.log1p(adata)\n",
    "\n",
    "# Identify highly variable genes\n",
    "sc.pp.highly_variable_genes(adata, min_mean=0.0125, max_mean=3, min_disp=0.5)\n",
    "\n",
    "# Store the raw data for later use\n",
    "adata.raw = adata\n",
    "adata = adata[:, adata.var.highly_variable]\n",
    "\n",
    "# Regress out unwanted sources of variation using only the highly variable genes\n",
    "sc.pp.regress_out(adata, [\"total_counts\", \"pct_counts_mt\"])\n",
    "sc.pp.scale(adata, max_value=10)\n",
    "\n",
    "# Perform PCA with 40 components and correct for batch effects using Harmony\n",
    "sc.tl.pca(adata, n_comps=40)\n",
    "sce.pp.harmony_integrate(adata, 'sample', lamb=0.5)\n",
    "\n",
    "# Compute neighborhood graph and UMAP\n",
    "sc.pp.neighbors(adata, use_rep='X_pca_harmony', n_neighbors=10)\n",
    "sc.tl.umap(adata)\n",
    "\n",
    "# Cluster the cells using Leiden algorithm\n",
    "sc.tl.leiden(adata, key_added='cluster', resolution=0.2)\n",
    "\n",
    "# Specify that natural logarithm was used for log transformation\n",
    "adata.uns['log1p'][\"base\"] = None\n",
    "\n",
    "# Save the processed clustered AnnData object\n",
    "adata.write('SC2300734-PL0006PAD-clustered.h5ad')"
   ]
  },
  {
   "cell_type": "markdown",
   "id": "a1aa2a5a",
   "metadata": {},
   "source": [
    "# Visualize and annotate clusters"
   ]
  },
  {
   "cell_type": "code",
   "execution_count": null,
   "id": "79914504",
   "metadata": {},
   "outputs": [],
   "source": [
    "import os\n",
    "import pandas as pd\n",
    "import numpy as np\n",
    "import scanpy as sc\n",
    "from scanpy import external as sce\n",
    "from scanpy.tools._score_genes import score_genes\n",
    "import matplotlib\n",
    "from matplotlib import cm\n",
    "from matplotlib.patheffects import withStroke\n",
    "from matplotlib import pyplot as plt\n",
    "\n",
    "plt.rcParams['figure.dpi'] = 160"
   ]
  },
  {
   "cell_type": "code",
   "execution_count": null,
   "id": "7afee9cd",
   "metadata": {},
   "outputs": [],
   "source": [
    "adata = sc.read('/projects/activities/kappsen-tmc/USERS/domans/examples-sennet-portal/SC2300734-PL0006PAD-clustered.h5ad')"
   ]
  },
  {
   "cell_type": "code",
   "execution_count": null,
   "id": "ac56df84",
   "metadata": {},
   "outputs": [],
   "source": [
    "plt.rcParams[\"figure.figsize\"] = (2, 2)\n",
    "sc.pl.umap(adata, color='sample')\n",
    "\n",
    "sc.tl.embedding_density(adata, basis='umap', groupby='sample')\n",
    "sc.pl.embedding_density(adata, basis='umap', key='umap_density_sample', s=10)\n",
    "\n",
    "sc.pl.umap(adata, color=[\"CDKN2A\", \"CDKN1A\", 'CCND1', \"GCG\", \"INS\", \"PPY\"], use_raw=True, ncols=3, s=2, hspace=0.35)\n",
    "\n",
    "sc.pl.umap(adata, color=['total_counts', 'pct_counts_mt', 'n_genes_by_counts'], use_raw=True, ncols=3, cmap='gist_ncar', vmin=0, wspace=0.5, s=2)"
   ]
  },
  {
   "cell_type": "markdown",
   "id": "8986d52b",
   "metadata": {},
   "source": [
    "## Display the clusters on UMAP"
   ]
  },
  {
   "cell_type": "code",
   "execution_count": null,
   "id": "0f3ecb91",
   "metadata": {},
   "outputs": [],
   "source": [
    "plt.rcParams[\"figure.figsize\"] = (3, 3)\n",
    "sc.pl.umap(adata, color='cluster')"
   ]
  },
  {
   "cell_type": "markdown",
   "id": "e3b79ece",
   "metadata": {},
   "source": [
    "## Apply pre-defined annotation of the clusters"
   ]
  },
  {
   "cell_type": "code",
   "execution_count": null,
   "id": "a7587504",
   "metadata": {},
   "outputs": [],
   "source": [
    "celltypemap = {'0': 'Acinar',\n",
    "             '1': 'Alpha',\n",
    "             '2': 'Ductal',\n",
    "             '3': 'Beta',\n",
    "             '4': 'Ductal-2',\n",
    "             '5': 'Alpha-2',\n",
    "             '6': 'Vascular',\n",
    "             '7': 'Gamma',\n",
    "             '8': 'Delta',\n",
    "             '9': 'Adipose',\n",
    "             '10': 'Myeloid',\n",
    "             '11': 'Schwann'}\n",
    "\n",
    "adata.obs['Celltype'] = adata.obs['cluster'].astype(str).replace(celltypemap).astype(str).astype('category')\n",
    "\n",
    "palette={celltype: cm.Set1(k) for k, celltype in enumerate(sorted(list(set(celltypemap.values()))))}\n",
    "palette.update({'Ductal': cm.Set2(5), 'Vascular': 'brown', 'Schwann': 'cyan', 'Ductal-2': 'magenta', 'Delta': 'slateblue', 'Gamma': 'lime'})\n",
    "\n",
    "fig, ax = plt.subplots(figsize=(4, 4))\n",
    "sc.pl.umap(adata, color='Celltype', palette=palette, ax=ax, show=False)\n",
    "for c in adata.obs['Celltype'].unique():\n",
    "    x, y = np.median(adata.obsm['X_umap'][(adata.obs['Celltype']==c).values, :], axis=0)\n",
    "    ax.text(x, y, c, ha='center', va='top', fontsize=10, weight='normal')\n",
    "plt.show()"
   ]
  },
  {
   "cell_type": "markdown",
   "id": "12293f33",
   "metadata": {},
   "source": [
    "## Explore cluster gene expression of selected genes"
   ]
  },
  {
   "cell_type": "code",
   "execution_count": null,
   "id": "408e7cbb-0b1c-47d6-8377-47cf0bfea593",
   "metadata": {},
   "outputs": [],
   "source": [
    "plt.rcParams[\"figure.figsize\"] = (3.5, 2)\n",
    "sc.pl.violin(adata, keys=['AQP8', 'KRT8', 'GCG'], groupby='Celltype', rotation=90)"
   ]
  },
  {
   "cell_type": "markdown",
   "id": "77145529-dfaf-4d93-8cca-f5da55dbae1d",
   "metadata": {},
   "source": [
    "# Compute SenMayo gene list score"
   ]
  },
  {
   "cell_type": "code",
   "execution_count": null,
   "id": "5b827969-2a1a-45ae-a025-3af1bfdc5594",
   "metadata": {},
   "outputs": [],
   "source": [
    "SenMayoGenes = ['ACVR1B', 'ANG', 'ANGPT1', 'ANGPTL4', 'AREG', 'AXL', 'BEX3', 'BMP2', 'BMP6', 'C3', 'CCL1', 'CCL13', 'CCL16', 'CCL2', \n",
    "                'CCL20', 'CCL24', 'CCL26', 'CCL3', 'CCL3L1', 'CCL4', 'CCL5', 'CCL7', 'CCL8', 'CD55', 'CD9', 'CSF1', 'CSF2', 'CSF2RB', 'CST4', \n",
    "                'CTNNB1', 'CTSB', 'CXCL1', 'CXCL10', 'CXCL12', 'CXCL16', 'CXCL2', 'CXCL3', 'CXCL8', 'CXCR2', 'DKK1', 'EDN1', 'EGF', 'EGFR', \n",
    "                'EREG', 'ESM1', 'ETS2', 'FAS', 'FGF1', 'FGF2', 'FGF7', 'GDF15', 'GEM', 'GMFG', 'HGF', 'HMGB1', 'ICAM1', 'ICAM3', 'IGF1', \n",
    "                'IGFBP1', 'IGFBP2', 'IGFBP3', 'IGFBP4', 'IGFBP5', 'IGFBP6', 'IGFBP7', 'IL10', 'IL13', 'IL15', 'IL18', 'IL1A', 'IL1B', 'IL2', \n",
    "                'IL32', 'IL6', 'IL6ST', 'IL7', 'INHA', 'IQGAP2', 'ITGA2', 'ITPKA', 'JUN', 'KITLG', 'LCP1', 'MIF', 'MMP1', 'MMP10', 'MMP12', \n",
    "                'MMP13', 'MMP14', 'MMP2', 'MMP3', 'MMP9', 'NAP1L4', 'NRG1', 'PAPPA', 'PECAM1', 'PGF', 'PIGF', 'PLAT', 'PLAU', 'PLAUR', 'PTBP1', \n",
    "                'PTGER2', 'PTGES', 'RPS6KA5', 'SCAMP4', 'SELPLG', 'SEMA3F', 'SERPINB4', 'SERPINE1', 'SERPINE2', 'SPP1', 'SPX', 'TIMP2', 'TNF', \n",
    "                'TNFRSF10C', 'TNFRSF11B', 'TNFRSF1A', 'TNFRSF1B', 'TUBGCP2', 'VEGFA', 'VEGFC', 'VGF', 'WNT16', 'WNT2']\n",
    "\n",
    "score_genes(adata, gene_list=adata.var.index.intersection(SenMayoGenes), score_name='SenMayo', ctrl_size=50)"
   ]
  },
  {
   "cell_type": "code",
   "execution_count": null,
   "id": "0381f6a1-e30d-49ab-976f-a7ac13eb91b7",
   "metadata": {},
   "outputs": [],
   "source": [
    "# Filter out cells that are not of interest\n",
    "adata = adata[~adata.obs['Celltype'].isin(['Alpha-2'])]"
   ]
  },
  {
   "cell_type": "code",
   "execution_count": null,
   "id": "6a6c6938-f82b-4b49-ad6d-4f07ac355755",
   "metadata": {},
   "outputs": [],
   "source": [
    "# Define bins for analysis\n",
    "bins = [-0.1, 0.1, 0.3]\n",
    "\n",
    "fig, ax = plt.subplots(figsize=(1.5, 1.5))\n",
    "adata.obs['SenMayo'].hist(bins=100, ax=ax)\n",
    "ax.set_xlim([-0.3, 0.7])\n",
    "for bin in bins:\n",
    "    plt.axvline(bin, linestyle='--', c='k')"
   ]
  },
  {
   "cell_type": "code",
   "execution_count": null,
   "id": "904d5dba-86a0-45a3-a6a3-dbbf72d43e0b",
   "metadata": {},
   "outputs": [],
   "source": [
    "se = adata.obs['SenMayo'].copy()\n",
    "adata.obs['SenMayo-bin'] = 'Bin 0'\n",
    "for ibin, bin in enumerate(bins):\n",
    "    adata.obs.loc[se>=bin, 'SenMayo-bin'] = 'Bin %s' % (ibin+1)\n",
    "adata.obs.loc[:, 'SenMayo-bin'] = adata.obs.loc[:, 'SenMayo-bin'].astype('category')"
   ]
  },
  {
   "cell_type": "code",
   "execution_count": null,
   "id": "111a7bb0-c18b-4372-94a4-bcce489196dc",
   "metadata": {},
   "outputs": [],
   "source": [
    "fig, axs = plt.subplots(1, 2, figsize=(7, 3))\n",
    "sc.pl.umap(adata, color=['SenMayo'], show=False, cmap='viridis', ax=axs[0])\n",
    "sc.pl.umap(adata, color=['SenMayo-bin'], show=False, cmap='viridis', ax=axs[1])\n",
    "plt.show()"
   ]
  },
  {
   "cell_type": "markdown",
   "id": "9b2148ee",
   "metadata": {},
   "source": [
    "## View cell type composition in each SenMayo score bin"
   ]
  },
  {
   "cell_type": "code",
   "execution_count": null,
   "id": "8168e0bd",
   "metadata": {},
   "outputs": [],
   "source": [
    "fig, axs = plt.subplots(1, 3, figsize=(3*2.75, 2.5))\n",
    "params = dict(pctdistance=1.15, labeldistance=.4, textprops=dict(fontsize=8))\n",
    "identity = 'SenMayo-bin'\n",
    "panels = ['A', 'B', 'C']\n",
    "for i, val in enumerate(['Bin 1', 'Bin 2', 'Bin 3']):\n",
    "    wh = adata.obs[identity].replace('', 'Unknown')==val\n",
    "    se = adata.obs.loc[wh, 'Celltype'].value_counts()\n",
    "    se = se.sort_index()\n",
    "    sizes = se.values\n",
    "    labels = [f'{ct} ({size})' if size/sizes.sum() > 0.025 else '' for ct, size in zip(se.index, sizes)]\n",
    "    explode = [0.05 if size/sizes.sum() > 0.025 else 0 for size in sizes]\n",
    "    colors = [palette[ct] for ct in se.index]\n",
    "    ax = axs[i]\n",
    "    wedges, texts, autotexts = ax.pie(sizes, explode=explode, labels=labels, colors=colors, autopct=lambda pct: f'{pct:.1f}%' if pct > 2.5 else '',\n",
    "                                    shadow=False, startangle=90, **params)\n",
    "    for text in texts + autotexts:\n",
    "        text.set_path_effects([withStroke(linewidth=1, foreground='white')])\n",
    "    axs[i].text(axs[i].get_xlim()[0], axs[i].get_ylim()[1], f'({panels[i]}) {val}', ha='left', va='bottom', fontsize=14, fontweight='bold')\n",
    "plt.tight_layout()\n",
    "plt.show()\n"
   ]
  }
 ],
 "metadata": {
  "kernelspec": {
   "display_name": "Python 3 (ipykernel)",
   "language": "python",
   "name": "python3"
  },
  "language_info": {
   "codemirror_mode": {
    "name": "ipython",
    "version": 3
   },
   "file_extension": ".py",
   "mimetype": "text/x-python",
   "name": "python",
   "nbconvert_exporter": "python",
   "pygments_lexer": "ipython3",
   "version": "3.10.12"
  }
 },
 "nbformat": 4,
 "nbformat_minor": 5
}

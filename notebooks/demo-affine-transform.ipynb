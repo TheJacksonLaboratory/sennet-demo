{
 "cells": [
  {
   "cell_type": "markdown",
   "metadata": {},
   "source": [
    "# Introduction"
   ]
  },
  {
   "cell_type": "markdown",
   "metadata": {},
   "source": [
    "This demo functions allow users to remotely access and load a specific resolution level (pyramid series) from a large OME-TIFF<br>\n",
    "image file—without downloading the entire file. It uses smart streaming tools to efficiently retrieve just the image data needed,<br>\n",
    "making it ideal for working with massive microscopy datasets. The images are hosted on a remote server, and the demo provides a user <br>\n",
    "interface to select the desired resolution level.<br>\n",
    "\n",
    "The images can be associated with segmentation data, e.g., cells, which can be visualized alongside the image.<br>\n",
    "We show how to display cells on the image, and then apply affine transformations to the cells<br>\n",
    "to overlay them on the Xenium coordinates.<br>"
   ]
  },
  {
   "attachments": {
    "image.png": {
     "image/png": "[encoded data removed]"
    }
   },
   "cell_type": "markdown",
   "metadata": {},
   "source": [
    "![image.png](attachment:image.png)"
   ]
  },
  {
   "cell_type": "markdown",
   "metadata": {},
   "source": [
    "## Import python libraries"
   ]
  },
  {
   "cell_type": "code",
   "execution_count": null,
   "metadata": {},
   "outputs": [],
   "source": [
    "import requests\n",
    "import tifffile\n",
    "import numpy as np\n",
    "import scanpy as sc\n",
    "import matplotlib.pyplot as plt\n",
    "import fsspec\n",
    "import zarr\n",
    "import xarray as xr\n",
    "from kerchunk.tiff import tiff_to_zarr\n",
    "\n",
    "def read_ome_tiff_series(url: str, series_index: int = 0):\n",
    "    \"\"\"\n",
    "    Reads a specific pyramid series from a remote OME-TIFF file using fsspec + kerchunk + zarr.\n",
    "\n",
    "    Parameters:\n",
    "        url (str): URL to the remote OME-TIFF file.\n",
    "        series_index (int): Index of the pyramid level to read (0 = highest resolution).\n",
    "\n",
    "    Returns:\n",
    "        xarray.DataArray: The image data for the specified pyramid level.\n",
    "    \"\"\"\n",
    "    # Generate kerchunk reference directly from URL\n",
    "    ref = tiff_to_zarr(url)\n",
    "\n",
    "    # Create a mapper from the reference\n",
    "    fs = fsspec.filesystem(\"reference\", fo=ref)\n",
    "    mapper = fs.get_mapper(\"\")\n",
    "\n",
    "    # Open the dataset\n",
    "    ds = xr.open_zarr(mapper, consolidated=False)\n",
    "\n",
    "    # Access the requested series\n",
    "    level_key = str(series_index)\n",
    "    if level_key not in ds:\n",
    "        raise ValueError(f\"Series index {series_index} not found. Available keys: {list(ds.keys())}\")\n",
    "\n",
    "    return ds[level_key]"
   ]
  },
  {
   "cell_type": "markdown",
   "metadata": {},
   "source": [
    "## Connect to remote storage and inspect the image structure"
   ]
  },
  {
   "cell_type": "code",
   "execution_count": null,
   "metadata": {},
   "outputs": [],
   "source": [
    "url = \"https://assets.api.sennetconsortium.org/49dad6221c05a563a075b2bf564be2f1/ometiff-pyramids/lab_processed/images/Image_0017272.ome.tif?token=\"\n",
    "\n",
    "imgFull = read_ome_tiff_series(url, series_index=0)\n",
    "imgFull"
   ]
  },
  {
   "cell_type": "markdown",
   "metadata": {},
   "source": [
    "## Load a small region in full resolution\n",
    "\n",
    "The entire image is large, about 12 GB. Downloading the entire image may take a while depending on the network connection.\n",
    "In addition, the downloaded image will take significant space on the computer.\n",
    "\n",
    "<br>\n",
    "We load a small region, e.g., 2000 by 2000 pixels, that can be viewed right away.\n",
    "The pixels values is only loaded by accession \".values\" after slicing the Xarray."
   ]
  },
  {
   "cell_type": "code",
   "execution_count": null,
   "metadata": {},
   "outputs": [],
   "source": [
    "x1, y1 = 43000, 55000\n",
    "dx, dy = 2000, 2000\n",
    "x2, y2 = x1 + dx, y1 + dy\n",
    "imgFullROI = imgFull[:, y1:y2, x1:x2].values.astype(np.uint8)\n",
    "plt.imshow(np.moveaxis(imgFullROI, 0, -1), extent=(x1, x2, y1, y2))\n",
    "plt.title(\"Full Resolution ROI\")\n",
    "ax = plt.gca()\n",
    "ax.set_xlabel(\"X, pixels\")\n",
    "ax.set_ylabel(\"Y, pixels\")\n",
    "plt.xticks(rotation=15)\n",
    "plt.show()"
   ]
  },
  {
   "cell_type": "markdown",
   "metadata": {},
   "source": [
    "## Download a downsampled version of the image, from the same URL"
   ]
  },
  {
   "cell_type": "code",
   "execution_count": null,
   "metadata": {},
   "outputs": [],
   "source": [
    "# Connect to remote storage downsampled series, e.g. series 3\n",
    "imgConnector = read_ome_tiff_series(url, series_index=3)\n",
    "print(imgConnector.shape)\n",
    "\n",
    "# Load the downsampled series by converting to numpy array\n",
    "img = imgConnector.values.astype(np.uint8)"
   ]
  },
  {
   "cell_type": "markdown",
   "metadata": {},
   "source": [
    "## Display the downsampled image and arbitrary cells as \"x\" markers"
   ]
  },
  {
   "cell_type": "code",
   "execution_count": null,
   "metadata": {},
   "outputs": [],
   "source": [
    "# Even the downsampled image may be too large to display in full resolution,\n",
    "# so we will downsample it further for plots\n",
    "f = 2  # Further downsampling factor\n",
    "plt.imshow(np.moveaxis(img[:, ::f, ::f], 0, -1), extent=(0, imgFull.shape[2], imgFull.shape[1], 0))\n",
    "ax = plt.gca()\n",
    "ax.set_xlabel('X, pixels')\n",
    "ax.set_ylabel('Y, pixels')\n",
    "plt.xticks(rotation=15)\n",
    "\n",
    "# Make up some H&E cell coordinates for demonstration, in the full resolution coordinates\n",
    "# These could represent coordinates of cells detected in the H&E image\n",
    "h_and_e_cells = np.array([[11000, 16000],\n",
    "                          [16000, 34000],\n",
    "                          [1500, 48000]])\n",
    "\n",
    "# Display cells with \"x\" markers\n",
    "ax.scatter(h_and_e_cells[:, 0],\n",
    "            h_and_e_cells[:, 1],\n",
    "            marker='x', c='lime', s=25);\n",
    "\n",
    "plt.show()"
   ]
  },
  {
   "cell_type": "markdown",
   "metadata": {},
   "source": [
    "## Transfer the cells coordinates to Xenium coordinates"
   ]
  },
  {
   "cell_type": "code",
   "execution_count": null,
   "metadata": {},
   "outputs": [],
   "source": [
    "# Use the pre-computed affine transformation matrix\n",
    "# The mattrices can be found in the \"extras\" or \"transformation\" directory of each the repository whenever available.\n",
    "M = np.array([[1.786119779961643740e-03,6.443031167854157415e-01],\n",
    "            [-6.443483716831650554e-01,1.235765492824911086e-03]])\n",
    "Tr = np.array([4.039155169888560408e+02, 4.698404373738830327e+04])\n",
    "print(M)\n",
    "print(Tr)\n",
    "\n",
    "mpp_Xe = 0.2125"
   ]
  },
  {
   "cell_type": "markdown",
   "metadata": {},
   "source": [
    "### Download demo Xenium dataset and load it into memory"
   ]
  },
  {
   "cell_type": "code",
   "execution_count": null,
   "metadata": {},
   "outputs": [],
   "source": [
    "# dataPath = './'\n",
    "dataPath = '/projects/activities/kappsen-tmc/USERS/domans/examples-sennet-portal/'"
   ]
  },
  {
   "cell_type": "code",
   "execution_count": null,
   "metadata": {},
   "outputs": [],
   "source": [
    "!curl -L \"https://zenodo.org/api/records/15777586/files-archive\" -o dataset.zip && unzip dataset.zip && rm dataset.zip"
   ]
  },
  {
   "cell_type": "code",
   "execution_count": null,
   "metadata": {},
   "outputs": [],
   "source": [
    "import pandas as pd\n",
    "\n",
    "def load_xenium_dataset(id, path, N=None, suffix=None, f=1.):\n",
    "\n",
    "    \"\"\"Load a Xenium dataset from a specified Xenium bundle directory.\n",
    "\n",
    "    Parameters\n",
    "    ----------\n",
    "    id : str\n",
    "        Identifier for the sample (not used internally).\n",
    "    path : str\n",
    "        Path to the Xenium bundle directory. This directory should contain\n",
    "        'cells.parquet' and 'cell_feature_matrix.h5' files.\n",
    "    N : int, optional\n",
    "        Number of cells to randomly sample. If None, use all cells.\n",
    "    suffix : str, optional\n",
    "        Suffix to append to cell indices.\n",
    "    f : float, optional\n",
    "        Scaling factor for spatial coordinates (default is 1.0).\n",
    "\n",
    "    Returns\n",
    "    -------\n",
    "    adata : AnnData\n",
    "        Data object with spatial coordinates in `adata.obsm['spatial']`.\n",
    "    \"\"\"\n",
    "\n",
    "    obs = pd.read_parquet(path + '/cells.parquet', engine='auto', columns=None,\n",
    "                          storage_options=None, use_nullable_dtypes=False).set_index('cell_id')\n",
    "    adata = sc.read_10x_h5(path + '/cell_feature_matrix.h5')\n",
    "    if not N is None:\n",
    "        adata = adata[adata.obs.sample(N).index]\n",
    "    adata.obs = obs.loc[adata.obs.index]\n",
    "    if not suffix is None:\n",
    "        adata.obs.index = adata.obs.index + suffix\n",
    "    adata.obsm['spatial'] = (adata.obs[['x_centroid', 'y_centroid']]*f).astype(int).values\n",
    "\n",
    "    return adata\n",
    "\n",
    "id = 'JDC-WP-012-w'\n",
    "ad = load_xenium_dataset(id, dataPath + '/JDC-WP-012-w-xenium-slim/', suffix='.' + id)"
   ]
  },
  {
   "cell_type": "markdown",
   "metadata": {},
   "source": [
    "## Plot the Xenium cells and the H&E cells via affine transformation"
   ]
  },
  {
   "cell_type": "code",
   "execution_count": null,
   "metadata": {},
   "outputs": [],
   "source": [
    "plt.scatter(ad.obs['x_centroid'], ad.obs['y_centroid'], s=0.1, alpha=0.05, c='steelblue')\n",
    "ax = plt.gca()\n",
    "ax.set_aspect('equal')\n",
    "ax.invert_yaxis()\n",
    "ax.set_xlabel('x (µm)')\n",
    "ax.set_ylabel('y (µm)')\n",
    "\n",
    "xe_cells_coords = (np.dot(h_and_e_cells, M.T) + Tr) * mpp_Xe\n",
    "plt.scatter(xe_cells_coords[:, 0], xe_cells_coords[:, 1], marker='x', c='crimson', s=100);\n",
    "plt.show()"
   ]
  }
 ],
 "metadata": {
  "kernelspec": {
   "display_name": "Python 3 (ipykernel)",
   "language": "python",
   "name": "python3"
  },
  "language_info": {
   "codemirror_mode": {
    "name": "ipython",
    "version": 3
   },
   "file_extension": ".py",
   "mimetype": "text/x-python",
   "name": "python",
   "nbconvert_exporter": "python",
   "pygments_lexer": "ipython3",
   "version": "3.10.12"
  }
 },
 "nbformat": 4,
 "nbformat_minor": 2
}
